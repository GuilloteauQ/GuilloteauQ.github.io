{
 "cells": [
  {
   "cell_type": "markdown",
   "id": "73bb63fb-b435-4397-a734-c809b95992b2",
   "metadata": {},
   "source": [
    "# NXC and Execo"
   ]
  },
  {
   "cell_type": "markdown",
   "id": "a3a017ec-6b35-4397-8047-b0cc10442fa6",
   "metadata": {},
   "source": [
    "## Some Imports"
   ]
  },
  {
   "cell_type": "markdown",
   "id": "10aab530-8c08-416a-bc6b-60f655f2c0df",
   "metadata": {},
   "source": [
    "First import the usual Execo tools to run an experiment "
   ]
  },
  {
   "cell_type": "code",
   "execution_count": 1,
   "id": "09e19363-2dc5-47e1-8492-582d725fec1c",
   "metadata": {
    "execution": {
     "iopub.execute_input": "2021-11-03T14:09:58.152735Z",
     "iopub.status.busy": "2021-11-03T14:09:58.151932Z",
     "iopub.status.idle": "2021-11-03T14:09:58.290174Z",
     "shell.execute_reply": "2021-11-03T14:09:58.290642Z"
    }
   },
   "outputs": [],
   "source": [
    "from execo import Remote\n",
    "from execo_g5k import oardel, oarsub, OarSubmission\n",
    "from execo_engine import Engine, logger"
   ]
  },
  {
   "cell_type": "markdown",
   "id": "15453bb5-b70f-41b7-a2ce-26f919cddbe4",
   "metadata": {},
   "source": [
    "We now import our `nxc` function that returns the OAR nodes"
   ]
  },
  {
   "cell_type": "code",
   "execution_count": 2,
   "id": "415e7c10-e527-4439-8c08-e183b11c71a3",
   "metadata": {
    "execution": {
     "iopub.execute_input": "2021-11-03T14:09:58.296987Z",
     "iopub.status.busy": "2021-11-03T14:09:58.296387Z",
     "iopub.status.idle": "2021-11-03T14:09:58.328457Z",
     "shell.execute_reply": "2021-11-03T14:09:58.327950Z"
    }
   },
   "outputs": [],
   "source": [
    "from nixos_compose.nxc_execo import get_oar_job_nodes_nxc"
   ]
  },
  {
   "cell_type": "markdown",
   "id": "14fccf82-990f-4d97-8b41-fa583707d661",
   "metadata": {},
   "source": [
    "## Definition of the Execo Experiment Engine"
   ]
  },
  {
   "cell_type": "markdown",
   "id": "619b470a-bd76-4710-9bb6-4daae6a6b037",
   "metadata": {},
   "source": [
    "Execo provides the notion of `Engine` for running experiments.\n",
    "\n",
    "We have to define a subclass of this `Engine` class, and implement some of its methods."
   ]
  },
  {
   "cell_type": "code",
   "execution_count": 3,
   "id": "a925e336-54e2-4cad-b76d-5bd55e2fc046",
   "metadata": {
    "execution": {
     "iopub.execute_input": "2021-11-03T14:09:58.339625Z",
     "iopub.status.busy": "2021-11-03T14:09:58.336949Z",
     "iopub.status.idle": "2021-11-03T14:09:58.342182Z",
     "shell.execute_reply": "2021-11-03T14:09:58.343031Z"
    }
   },
   "outputs": [],
   "source": [
    "class MyEngine(Engine):\n",
    "    def __init__(self):\n",
    "        super(MyEngine, self).__init__()\n",
    "        # We add here a CLI argument to use a defined compose-info file\n",
    "        # by default it is looking at the nxc/build folder\n",
    "        parser = self.args_parser\n",
    "        parser.add_argument('--nxc_build_file', help='Path to the NXC compose info file')\n",
    "        self.nodes = {}\n",
    "\n",
    "    def init(self):\n",
    "        # Here we setup the reservation:\n",
    "        # how many nodes, where, for how long, etc\n",
    "        nb_nodes = 2\n",
    "        site = \"grenoble\"\n",
    "        cluster = \"dahu\"\n",
    "        # makes the reservation\n",
    "        oar_job = reserve_nodes(nb_nodes, site, cluster)\n",
    "        job_id, site = oar_job[0]\n",
    "        # We now define the number of nodes we want to be assign to each role.\n",
    "        # Here we have a single role: \"foo\"\n",
    "        # and we assign 2 nodes to this role\n",
    "        roles_quantities = { \"foo\": 2 }\n",
    "        # We now call our nxc function to make the mapping between the reserved nodes and the roles\n",
    "        # while setting up the correct environnment per node\n",
    "        self.nodes = get_oar_job_nodes_nxc(job_id, site, self.args.nxc_build_file, roles_quantities=roles_quantities)\n",
    "        # self.nodes is a dict where the keys are roles and the values lists of execo.Host\n",
    "\n",
    "    def run(self):\n",
    "        # once everything is set up, we can execute some commands\n",
    "        # here we execute a simple command on all the nodes having the role \"foo\"\n",
    "        my_command = \"echo \\\"Hello from $(whoami) at $(hostname) ($(ip -4 addr | grep \\\"/20\\\" | awk '{print $2;}'))\\\" > /tmp/hello\"\n",
    "        hello_remote = Remote(my_command, self.nodes[\"foo\"], connection_params={'user': 'root'})\n",
    "        hello_remote.run()\n",
    "        \n",
    "        my_command2 = \"cat /tmp/hello\"\n",
    "        cat_remote = Remote(my_command2, self.nodes[\"foo\"], connection_params={'user': 'root'})\n",
    "        cat_remote.run()\n",
    "        for process in cat_remote.processes:\n",
    "            print(process.stdout)\n",
    "        \n",
    "def reserve_nodes(nb_nodes, site, cluster, walltime=3600):\n",
    "    # A small helper function to make the reservation\n",
    "    jobs = oarsub([(OarSubmission(\"{{cluster='{}'}}/nodes={}\".format(cluster, nb_nodes), walltime, job_type=[\"day\"]), site)])\n",
    "    return jobs"
   ]
  },
  {
   "cell_type": "markdown",
   "id": "d8fa9c91-368b-4fd1-b69c-11bf53babeff",
   "metadata": {},
   "source": [
    "## Running our Engine"
   ]
  },
  {
   "cell_type": "markdown",
   "id": "b5a87728-4ced-4cb9-aa7f-fcab50f8a91e",
   "metadata": {},
   "source": [
    "We will be using this compose info file:"
   ]
  },
  {
   "cell_type": "code",
   "execution_count": 4,
   "id": "bab86fb2-65f6-43eb-b8f3-0caf05671d28",
   "metadata": {
    "execution": {
     "iopub.execute_input": "2021-11-03T14:09:58.346719Z",
     "iopub.status.busy": "2021-11-03T14:09:58.345627Z",
     "iopub.status.idle": "2021-11-03T14:09:58.354415Z",
     "shell.execute_reply": "2021-11-03T14:09:58.354872Z"
    }
   },
   "outputs": [
    {
     "name": "stdout",
     "output_type": "stream",
     "text": [
      "{\n",
      "    \"all\": {\n",
      "        \"initrd\": \"/nix/store/dz3bm0287fmpq29mmbjrg9qyjzgh5lck-initrd/initrd\",\n",
      "        \"kernel\": \"/nix/store/i9k6v2297smxh3x06h7j8flkc4yllbjq-image/kernel\",\n",
      "        \"qemu_script\": \"/nix/store/n5yz728dkhmck8izppzaifar1dw3m2g3-qemu_script\",\n",
      "        \"stage1\": \"/nix/store/1cixs6y21klz4vm54590mcfcqrv20wl0-stage-1-init.sh\"\n",
      "    },\n",
      "    \"compositions_info\": {\n",
      "        \"composition\": {\n",
      "            \"all_store_info\": \"/nix/store/7kj72l0v51j0c5ixvg832fi7s0qq5hmd-all-store-info\",\n",
      "            \"nodes\": {\n",
      "                \"foo\": {\n",
      "                    \"closure_info\": \"/nix/store/bb412bcibzyid6pn51qmslxwzg37jb08-closure-info\",\n",
      "                    \"init\": \"/nix/store/lqq5jkwcmn5gmms9cy5m1blf6gj0aacb-nixos-system-unnamed-21.11pre-git/init\"\n",
      "                }\n",
      "            },\n",
      "            \"test_script\": \"/nix/store/q4g5ynkirk3pl8szfaa8m2pq3zcjafml-test-script\"\n",
      "        }\n",
      "    },\n",
      "    \"compositions_squashfs_store\": \"/nix/store/7sarczwj5pcf3cpmr7cfz6817aawkn56-all-compositions-squashfs.img\",\n",
      "    \"flavour\": {\n",
      "        \"description\": \"Flavour for Grid'5000 platform\",\n",
      "        \"image\": {\n",
      "            \"distribution\": \"all-in-one\",\n",
      "            \"type\": \"ramdisk\"\n",
      "        },\n",
      "        \"name\": \"g5k-ramdisk\"\n",
      "    }\n",
      "}\n"
     ]
    }
   ],
   "source": [
    "nxc_build_file = \"./compose-info.json\"\n",
    "with open(nxc_build_file, \"r\") as compose_info_content:\n",
    "    import json\n",
    "    json_content = json.load(compose_info_content)\n",
    "    pp_content = json.dumps(json_content, indent=4)\n",
    "    print(pp_content)"
   ]
  },
  {
   "cell_type": "markdown",
   "id": "9124a067-bd73-4686-aca9-4d1a436a9e63",
   "metadata": {},
   "source": [
    "Once our `Engine` is ready we can run it"
   ]
  },
  {
   "cell_type": "code",
   "execution_count": 5,
   "id": "0c852a3d-f639-4c02-b13a-8ac2288f052d",
   "metadata": {
    "execution": {
     "iopub.execute_input": "2021-11-03T14:09:58.358397Z",
     "iopub.status.busy": "2021-11-03T14:09:58.356994Z",
     "iopub.status.idle": "2021-11-03T14:11:14.082080Z",
     "shell.execute_reply": "2021-11-03T14:11:14.082619Z"
    }
   },
   "outputs": [
    {
     "name": "stdout",
     "output_type": "stream",
     "text": [
      "2021-11-03 15:09:58,374 \u001b[35mINFO:\u001b[m command line arguments: ['/home/qguilloteau/venv-jupyter/lib/python3.7/site-packages/ipykernel_launcher.py', '-f', '/tmp/tmpa1q1m923.json', '--HistoryManager.hist_file=:memory:']\n",
      "2021-11-03 15:09:58,375 \u001b[35mINFO:\u001b[m command line: /home/qguilloteau/venv-jupyter/lib/python3.7/site-packages/ipykernel_launcher.py -f /tmp/tmpa1q1m923.json --HistoryManager.hist_file=:memory:\n",
      "2021-11-03 15:09:58,376 \u001b[35mINFO:\u001b[m run in directory /home/qguilloteau/nix/nixos-compose/MyEngine_20211103_150958_+0100\n",
      "compose info file: ./compose-info.json\n",
      "G5K nodes: [Host('dahu-29.grenoble.grid5000.fr'), Host('dahu-3.grenoble.grid5000.fr')]\n",
      "Launch ssh(s) kexec\n",
      "Waiting ssh ports:\n",
      "✔ All ssh ports are opened\n",
      "Hello from root at foo (172.16.20.29/20)\r\n",
      "\n",
      "Hello from root at foo (172.16.20.3/20)\r\n",
      "\n",
      "\r"
     ]
    }
   ],
   "source": [
    "# Defines an instance of our Engine ...\n",
    "ENGINE = MyEngine()\n",
    "# ... and starts it\n",
    "ENGINE.start([\"--nxc_build_file\", nxc_build_file])"
   ]
  }
 ],
 "metadata": {
  "kernelspec": {
   "display_name": "Python 3",
   "language": "python",
   "name": "python3"
  },
  "language_info": {
   "codemirror_mode": {
    "name": "ipython",
    "version": 3
   },
   "file_extension": ".py",
   "mimetype": "text/x-python",
   "name": "python",
   "nbconvert_exporter": "python",
   "pygments_lexer": "ipython3",
   "version": "3.8.8"
  }
 },
 "nbformat": 4,
 "nbformat_minor": 5
}
